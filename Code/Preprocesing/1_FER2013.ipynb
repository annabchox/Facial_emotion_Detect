{
 "cells": [
  {
   "cell_type": "markdown",
   "id": "5221c5f8-1913-4781-9b7c-7cec7d5a56fa",
   "metadata": {},
   "source": [
    "# Data Preprocessing and EDA 1"
   ]
  },
  {
   "cell_type": "markdown",
   "id": "d9baa93d-4c87-40e2-92ba-e2fc60145f2c",
   "metadata": {
    "tags": []
   },
   "source": [
    "# FER 2013 Dataset"
   ]
  },
  {
   "cell_type": "code",
   "execution_count": 1,
   "id": "c461b504-339f-4d9a-9861-35931f5c9ba5",
   "metadata": {},
   "outputs": [],
   "source": [
    "# imports\n",
    "import matplotlib.pyplot as plt\n",
    "import numpy as np\n",
    "import os\n",
    "import pandas as pd\n",
    "import tensorflow as tf\n",
    "import seaborn as sns\n",
    "import sys \n",
    "from PIL import Image\n",
    "from tensorflow.keras.utils import image_dataset_from_directory\n",
    "from tensorflow.keras.preprocessing.image import img_to_array, load_img\n",
    "\n",
    "# Source: https://www.tensorflow.org/api_docs/python/tf/keras/utils/set_random_seed\n",
    "tf.keras.utils.set_random_seed(42)"
   ]
  },
  {
   "cell_type": "code",
   "execution_count": 2,
   "id": "ec8ecfa0-35b5-41fa-9c72-1bf1393692a0",
   "metadata": {},
   "outputs": [
    {
     "name": "stdout",
     "output_type": "stream",
     "text": [
      "Metal device set to: Apple M2 Max\n"
     ]
    }
   ],
   "source": [
    "# Importing global variables\n",
    "sys.path.append('./Main/Helper/')\n",
    "import helper as hp"
   ]
  },
  {
   "cell_type": "markdown",
   "id": "f51dd714-5a58-473d-b119-c4b1dc622025",
   "metadata": {},
   "source": [
    "# Finding image width and height"
   ]
  },
  {
   "cell_type": "markdown",
   "id": "6e4837e9-1acb-4bd4-a991-ac9a9672351a",
   "metadata": {},
   "source": [
    "The dimensions of the images in the FER 2013 data set are: 48x48 and are in grayscale."
   ]
  },
  {
   "cell_type": "code",
   "execution_count": 3,
   "id": "3bf7a845-9c08-4f48-8f8f-513cb9d748ce",
   "metadata": {},
   "outputs": [
    {
     "data": {
      "image/png": "[encoded data removed]",
      "text/plain": [
       "<Figure size 640x480 with 1 Axes>"
      ]
     },
     "metadata": {},
     "output_type": "display_data"
    },
    {
     "name": "stdout",
     "output_type": "stream",
     "text": [
      "(48, 48, 1)\n"
     ]
    }
   ],
   "source": [
    "#Load sample image from AffectNet\n",
    "image = Image.open('./Data/FER2013/train/happy/Training_10046809.jpg')\n",
    "\n",
    "# Display image\n",
    "plt.imshow(image, cmap = 'gray')\n",
    "plt.axis('off') # Turn axes off\n",
    "plt.show();\n",
    "\n",
    "#Get the shape of sample image\n",
    "image_shape = img_to_array(image).shape\n",
    "#Print shape of sample image\n",
    "print(image_shape)"
   ]
  },
  {
   "cell_type": "markdown",
   "id": "5db54815-c3ed-4188-b2b2-ed6d7befd0e9",
   "metadata": {},
   "source": [
    "# Loading in data"
   ]
  },
  {
   "cell_type": "markdown",
   "id": "f0f99a54-29c3-468e-bef6-e909ea78775c",
   "metadata": {},
   "source": [
    "There are **28709 total images** that belong to 7 classes in **FER 2013 Train set** \n",
    "\n",
    "There are **7178 total images** that belong to 7 classes in **FER 2013 Test set** "
   ]
  },
  {
   "cell_type": "code",
   "execution_count": 4,
   "id": "c5422b65-f291-4180-82af-548c417e47fd",
   "metadata": {},
   "outputs": [
    {
     "name": "stdout",
     "output_type": "stream",
     "text": [
      "Found 28709 files belonging to 7 classes.\n",
      "Found 7178 files belonging to 7 classes.\n"
     ]
    }
   ],
   "source": [
    "# Code modified from Lesson 8.06 -CNN \n",
    "# Source: https://www.tensorflow.org/tutorials/load_data/images\n",
    "\n",
    "base_path = './Data/FER2013'\n",
    "w= 48\n",
    "h= 48\n",
    "\n",
    "train = image_dataset_from_directory(\n",
    "    base_path + '/train',\n",
    "    image_size=(w,h),\n",
    "    batch_size=32,\n",
    "    seed=42,\n",
    "    color_mode= 'grayscale',\n",
    "    label_mode='categorical'\n",
    ")\n",
    "\n",
    "test = image_dataset_from_directory(\n",
    "    base_path + '/test',\n",
    "    image_size=(w,h),\n",
    "    batch_size=32,\n",
    "    color_mode= 'grayscale',\n",
    "    label_mode='categorical',\n",
    "    shuffle=False\n",
    ")"
   ]
  },
  {
   "cell_type": "markdown",
   "id": "74187c73-85b8-4fd4-8486-08121bdb1847",
   "metadata": {},
   "source": [
    "# Class Distribution"
   ]
  },
  {
   "cell_type": "markdown",
   "id": "486fc146-e3dc-4f39-85f8-bf9bf1812966",
   "metadata": {},
   "source": [
    "The class distribution of the train and test set is **imbalanced**"
   ]
  },
  {
   "cell_type": "markdown",
   "id": "8fbfa633-e422-4cd3-aa59-7467f860621d",
   "metadata": {},
   "source": [
    "### Train dataset class distribution"
   ]
  },
  {
   "cell_type": "code",
   "execution_count": 5,
   "id": "9c5c6d26-85cc-4a51-a01c-ca0fe980c6a0",
   "metadata": {},
   "outputs": [
    {
     "name": "stderr",
     "output_type": "stream",
     "text": [
      "2023-06-01 22:45:52.917322: W tensorflow/tsl/platform/profile_utils/cpu_utils.cc:128] Failed to get CPU frequency: 0 Hz\n"
     ]
    },
    {
     "name": "stdout",
     "output_type": "stream",
     "text": [
      "Index 0: angry - Count: 3995, Percentage: 13.92%\n",
      "Index 1: disgust - Count: 436, Percentage: 1.52%\n",
      "Index 2: fear - Count: 4097, Percentage: 14.27%\n",
      "Index 3: happy - Count: 7215, Percentage: 25.13%\n",
      "Index 4: neutral - Count: 4965, Percentage: 17.29%\n",
      "Index 5: sad - Count: 4830, Percentage: 16.82%\n",
      "Index 6: surprise - Count: 3171, Percentage: 11.05%\n"
     ]
    }
   ],
   "source": [
    "hp.print_class_counts(train)"
   ]
  },
  {
   "cell_type": "markdown",
   "id": "1bc355c4-bcbb-48c2-b401-b7b07205942e",
   "metadata": {},
   "source": [
    "### Test dataset class distribution"
   ]
  },
  {
   "cell_type": "code",
   "execution_count": 6,
   "id": "d660e5cb-31d1-4d04-adf4-a8e8f9ba60e0",
   "metadata": {},
   "outputs": [
    {
     "name": "stdout",
     "output_type": "stream",
     "text": [
      "Index 0: angry - Count: 958, Percentage: 13.35%\n",
      "Index 1: disgust - Count: 111, Percentage: 1.55%\n",
      "Index 2: fear - Count: 1024, Percentage: 14.27%\n",
      "Index 3: happy - Count: 1774, Percentage: 24.71%\n",
      "Index 4: neutral - Count: 1233, Percentage: 17.18%\n",
      "Index 5: sad - Count: 1247, Percentage: 17.37%\n",
      "Index 6: surprise - Count: 831, Percentage: 11.58%\n"
     ]
    }
   ],
   "source": [
    "hp.print_class_counts(test)"
   ]
  },
  {
   "cell_type": "markdown",
   "id": "36de66a9-4b79-402d-8613-1a817d5ec6c9",
   "metadata": {},
   "source": [
    "## Visualize Class Imbalance in Train set"
   ]
  },
  {
   "cell_type": "code",
   "execution_count": 7,
   "id": "5478895d-4658-4056-a0fa-2b0836a215a4",
   "metadata": {},
   "outputs": [
    {
     "data": {
      "image/png": "[encoded data removed]",
      "text/plain": [
       "<Figure size 640x480 with 1 Axes>"
      ]
     },
     "metadata": {},
     "output_type": "display_data"
    }
   ],
   "source": [
    "title = 'Class Distribution of FER-2013 Dataset'\n",
    "\n",
    "hp.plot_class_distribution(train, title)"
   ]
  },
  {
   "cell_type": "markdown",
   "id": "897837bf-a157-41e8-bb0f-805fbb93b6c1",
   "metadata": {},
   "source": [
    "There is a large class imbalance in both the training set in the FER2013 dataset. Majority images being `happy`, `neutral`, and `sad`. \n",
    "\n",
    "`Disgust` has the lowest amount of images, accounting for only 1.5% of the total dataset. "
   ]
  },
  {
   "cell_type": "markdown",
   "id": "a3ab24b9-ad21-4327-b11e-2e8fc634dea9",
   "metadata": {},
   "source": [
    "# Class imbalance solution"
   ]
  },
  {
   "cell_type": "markdown",
   "id": "c60f0cdd-9740-4c2f-b0f5-7dcc0073b2da",
   "metadata": {},
   "source": [
    "To counteract the vast class imbalance in the FER 2013 dataset, more images were pulled from the `AffectNet` dataset. These images were preprocessed to match the images in the FER 2013 dataset. The preprocessing of AffectNet dataset can be found [in this notebook](AffectNet.ipynb). The goal is to have each class have around 7215 images (the amount of images in the majority class: happy)."
   ]
  }
 ],
 "metadata": {
  "kernelspec": {
   "display_name": "Python 3.10 (tensorflow)",
   "language": "python",
   "name": "tensorflow"
  },
  "language_info": {
   "codemirror_mode": {
    "name": "ipython",
    "version": 3
   },
   "file_extension": ".py",
   "mimetype": "text/x-python",
   "name": "python",
   "nbconvert_exporter": "python",
   "pygments_lexer": "ipython3",
   "version": "3.10.11"
  }
 },
 "nbformat": 4,
 "nbformat_minor": 5
}
